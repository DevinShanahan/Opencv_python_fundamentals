{
 "cells": [
  {
   "cell_type": "code",
   "execution_count": 21,
   "metadata": {},
   "outputs": [],
   "source": [
    "import cv2\n",
    "import matplotlib.pyplot as plt\n",
    "import time\n",
    "from IPython.display import clear_output\n",
    "%matplotlib inline\n",
    "\n",
    "def one_image_per_second(video_file, output_dir, fps):\n",
    "    cap = cv2.VideoCapture(video_file)\n",
    "    frame_num = 0\n",
    "    image_num = 0\n",
    "    while cap.isOpened():\n",
    "        ret, frame = cap.read()\n",
    "        if ret:\n",
    "            if frame_num % fps == 0:\n",
    "                cv2.imwrite(output_dir+\"/image{}.jpg\".format(image_num),frame)\n",
    "                '''\n",
    "                ###Uncomment to visualize output###\n",
    "                clear_output()\n",
    "                rgb = cv2.cvtColor(frame, cv2.COLOR_BGR2RGB)\n",
    "                plt.imshow(rgb)\n",
    "                plt.show()\n",
    "                time.sleep(1)\n",
    "                '''\n",
    "                image_num += 1\n",
    "        else:\n",
    "            break\n",
    "        frame_num += 1\n",
    "\n",
    "    cap.release()\n",
    "    cv2.destroyAllWindows()\n",
    "    return\n",
    "            "
   ]
  },
  {
   "cell_type": "code",
   "execution_count": 23,
   "metadata": {},
   "outputs": [],
   "source": [
    "video_file = \"/Users/devin/ML/india_driving.mp4\"\n",
    "output_dir = \"/Users/devin/ML/images\"\n",
    "fps = 30\n",
    "\n",
    "one_image_per_second(video_file, output_dir, fps)"
   ]
  },
  {
   "cell_type": "code",
   "execution_count": 31,
   "metadata": {},
   "outputs": [],
   "source": [
    "import cv2\n",
    "\n",
    "def one_image_per_second(video_file, output_dir, fps):\n",
    "    cap = cv2.VideoCapture(video_file)\n",
    "    frame_num = 0\n",
    "    image_num = 0\n",
    "    while cap.isOpened():\n",
    "        ret, frame = cap.read()\n",
    "        if ret:\n",
    "            if frame_num % fps == 0:\n",
    "                cv2.imwrite(output_dir+\"/image{}.jpg\".format(image_num),frame)\n",
    "                image_num += 1\n",
    "        else:\n",
    "            break\n",
    "        frame_num += 1\n",
    "\n",
    "    cap.release()\n",
    "    cv2.destroyAllWindows()\n",
    "    return"
   ]
  },
  {
   "cell_type": "code",
   "execution_count": 32,
   "metadata": {
    "collapsed": true
   },
   "outputs": [],
   "source": [
    "video_file = \"/Users/devin/ML/india_driving.mp4\"\n",
    "output_dir = \"/Users/devin/ML/images\"\n",
    "fps = 30\n",
    "\n",
    "one_image_per_second(video_file, output_dir, fps)"
   ]
  },
  {
   "cell_type": "code",
   "execution_count": null,
   "metadata": {
    "collapsed": true
   },
   "outputs": [],
   "source": []
  }
 ],
 "metadata": {
  "kernelspec": {
   "display_name": "Python 3",
   "language": "python",
   "name": "python3"
  },
  "language_info": {
   "codemirror_mode": {
    "name": "ipython",
    "version": 3
   },
   "file_extension": ".py",
   "mimetype": "text/x-python",
   "name": "python",
   "nbconvert_exporter": "python",
   "pygments_lexer": "ipython3",
   "version": "3.6.2"
  }
 },
 "nbformat": 4,
 "nbformat_minor": 2
}
